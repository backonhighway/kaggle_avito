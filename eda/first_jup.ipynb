{
 "cells": [
  {
   "cell_type": "code",
   "execution_count": null,
   "metadata": {
    "collapsed": true
   },
   "outputs": [],
   "source": [
    "import os, sys\n",
    "ROOT = os.path.abspath(os.path.join(os.path.dirname(os.path.abspath(__file__)), '../../'))\n",
    "sys.path.append(ROOT)\n",
    "APP_ROOT = os.path.join(ROOT, \"avito\")\n",
    "INPUT_DIR = os.path.join(APP_ROOT, \"input\")\n",
    "OUTPUT_DIR = os.path.join(APP_ROOT, \"output\")\n",
    "ORG_TRAIN = os.path.join(INPUT_DIR, \"train.csv\")\n",
    "ORG_TEST = os.path.join(INPUT_DIR, \"test.csv\")\n",
    "OUTPUT_PRED = os.path.join(OUTPUT_DIR, \"submission.csv\")\n",
    "PRED_TRAIN = os.path.join(OUTPUT_DIR, \"pred_train.csv\")\n",
    "PRED_TEST = os.path.join(OUTPUT_DIR, \"pred_test.csv\")\n",
    "\n",
    "import numpy as np\n",
    "import pandas as pd\n",
    "import gc\n",
    "from sklearn import preprocessing\n",
    "from avito.common import pocket_timer, pocket_logger, column_selector\n"
   ]
  }
 ],
 "metadata": {
  "kernelspec": {
   "display_name": "Python 2",
   "language": "python",
   "name": "python2"
  },
  "language_info": {
   "codemirror_mode": {
    "name": "ipython",
    "version": 2
   },
   "file_extension": ".py",
   "mimetype": "text/x-python",
   "name": "python",
   "nbconvert_exporter": "python",
   "pygments_lexer": "ipython2",
   "version": "2.7.6"
  }
 },
 "nbformat": 4,
 "nbformat_minor": 0
}
